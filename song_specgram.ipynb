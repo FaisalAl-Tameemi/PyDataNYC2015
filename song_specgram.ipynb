{
 "cells": [
  {
   "cell_type": "code",
   "execution_count": null,
   "metadata": {
    "collapsed": true
   },
   "outputs": [],
   "source": [
    "import numpy as np\n",
    "import matplotlib.pyplot as plt\n",
    "import matplotlib.mlab as mlab\n",
    "from scipy.io import wavfile\n",
    "from skimage.feature import peak_local_max"
   ]
  },
  {
   "cell_type": "code",
   "execution_count": null,
   "metadata": {
    "collapsed": false
   },
   "outputs": [],
   "source": [
    "%matplotlib inline\n",
    "plt.rcParams.update({'font.size': 18})"
   ]
  },
  {
   "cell_type": "code",
   "execution_count": null,
   "metadata": {
    "collapsed": true
   },
   "outputs": [],
   "source": [
    "rate1, song_array1 = wavfile.read('Katy_Perry.wav')\n",
    "rate2, song_array2 = wavfile.read('Daft_Punk.wav')"
   ]
  },
  {
   "cell_type": "code",
   "execution_count": null,
   "metadata": {
    "collapsed": true
   },
   "outputs": [],
   "source": [
    "spec1, freqs1, t1 = mlab.specgram(song_array1, NFFT=4096, Fs=44100, noverlap=2048)\n",
    "spec2, freqs2, t2 = mlab.specgram(song_array2, NFFT=4096, Fs=44100, noverlap=2048)"
   ]
  },
  {
   "cell_type": "code",
   "execution_count": null,
   "metadata": {
    "collapsed": false
   },
   "outputs": [],
   "source": [
    "spec1[spec1 == 0] = 1e-6\n",
    "spec2[spec2 == 0] = 1e-6"
   ]
  },
  {
   "cell_type": "code",
   "execution_count": null,
   "metadata": {
    "collapsed": false
   },
   "outputs": [],
   "source": [
    "Z = 10.0 * np.log10(spec1)\n",
    "Z = np.flipud(Z)"
   ]
  },
  {
   "cell_type": "code",
   "execution_count": null,
   "metadata": {
    "collapsed": false
   },
   "outputs": [],
   "source": [
    "fig1 = plt.figure(figsize=(10, 8), facecolor='white')\n",
    "extent = 0, np.amax(t1), freqs1[0], freqs1[-1]\n",
    "plt.imshow(Z, cmap='viridis', extent=extent)\n",
    "plt.xlabel('Time bin [s]')\n",
    "plt.ylabel('Frequency [Hz]')\n",
    "plt.axis('auto')\n",
    "plt.show()"
   ]
  },
  {
   "cell_type": "code",
   "execution_count": null,
   "metadata": {
    "collapsed": false
   },
   "outputs": [],
   "source": [
    "min_freq = 0\n",
    "max_freq = 15000\n",
    "\n",
    "spec1 = spec1[(freqs1 >= min_freq) & (freqs1 <= max_freq)]\n",
    "freqs1 = freqs1[(freqs1 >= min_freq) & (freqs1 <= max_freq)]\n",
    "\n",
    "spec2 = spec2[(freqs2 >= min_freq) & (freqs2 <= max_freq)]\n",
    "freqs2 = freqs2[(freqs2 >= min_freq) & (freqs2 <= max_freq)]\n",
    "\n",
    "Z1 = 10.0 * np.log10(spec1)\n",
    "Z1 = np.flipud(Z1)\n",
    "\n",
    "Z2 = 10.0 * np.log10(spec2)\n",
    "Z2 = np.flipud(Z2)"
   ]
  },
  {
   "cell_type": "code",
   "execution_count": null,
   "metadata": {
    "collapsed": false
   },
   "outputs": [],
   "source": [
    "coordinates1 = peak_local_max(Z1, min_distance=20, threshold_abs=20)\n",
    "coordinates2 = peak_local_max(Z2, min_distance=20, threshold_abs=20)"
   ]
  },
  {
   "cell_type": "code",
   "execution_count": null,
   "metadata": {
    "collapsed": false
   },
   "outputs": [],
   "source": [
    "fig1 = plt.figure(figsize=(10, 8), facecolor='white')\n",
    "plt.imshow(Z1, cmap='viridis')\n",
    "plt.scatter(coordinates1[:, 1], coordinates1[:, 0])\n",
    "ax1 = plt.gca()\n",
    "plt.xlabel('Time')\n",
    "plt.ylabel('Frequency')\n",
    "plt.axis('auto')\n",
    "plt.scatter(coordinates1[:, 1], coordinates1[:, 0])\n",
    "ax1.set_xlim([0, len(t1)])\n",
    "ax1.set_ylim([len(freqs1), 0])\n",
    "ax1.xaxis.set_ticklabels([])\n",
    "ax1.yaxis.set_ticklabels([])\n",
    "plt.show()"
   ]
  },
  {
   "cell_type": "code",
   "execution_count": null,
   "metadata": {
    "collapsed": false
   },
   "outputs": [],
   "source": [
    "fig2 = plt.figure(figsize=(10, 8), facecolor='white')\n",
    "plt.imshow(Z2, cmap='viridis')\n",
    "plt.scatter(coordinates2[:, 1], coordinates2[:, 0])\n",
    "ax2 = plt.gca()\n",
    "plt.xlabel('Time', fontsize=18)\n",
    "plt.ylabel('Frequency', fontsize=18)\n",
    "plt.axis('auto')\n",
    "ax2.set_xlim([0, len(t2)])\n",
    "ax2.set_ylim([len(freqs2), 0])\n",
    "ax2.xaxis.set_ticklabels([])\n",
    "ax2.yaxis.set_ticklabels([])\n",
    "plt.show()"
   ]
  }
 ],
 "metadata": {
  "kernelspec": {
   "display_name": "Python 3",
   "language": "python",
   "name": "python3"
  },
  "language_info": {
   "codemirror_mode": {
    "name": "ipython",
    "version": 3
   },
   "file_extension": ".py",
   "mimetype": "text/x-python",
   "name": "python",
   "nbconvert_exporter": "python",
   "pygments_lexer": "ipython3",
   "version": "3.5.0"
  }
 },
 "nbformat": 4,
 "nbformat_minor": 0
}
