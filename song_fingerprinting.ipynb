{
 "cells": [
  {
   "cell_type": "code",
   "execution_count": null,
   "metadata": {
    "collapsed": true
   },
   "outputs": [],
   "source": [
    "import numpy as np\n",
    "import matplotlib.pyplot as plt\n",
    "from matplotlib.mlab import specgram\n",
    "from scipy.io import wavfile\n",
    "from skimage.feature import peak_local_max"
   ]
  },
  {
   "cell_type": "code",
   "execution_count": null,
   "metadata": {
    "collapsed": false
   },
   "outputs": [],
   "source": [
    "%matplotlib inline\n",
    "plt.rcParams.update({'font.size': 18})"
   ]
  },
  {
   "cell_type": "code",
   "execution_count": null,
   "metadata": {
    "collapsed": true
   },
   "outputs": [],
   "source": [
    "rate1, song_array1 = wavfile.read('Katy_Perry.wav')\n",
    "rate2, song_array2 = wavfile.read('Daft_Punk.wav')"
   ]
  },
  {
   "cell_type": "code",
   "execution_count": null,
   "metadata": {
    "collapsed": true
   },
   "outputs": [],
   "source": [
    "spec1, freqs1, t1 = specgram(song_array1, NFFT=4096, Fs=rate1, noverlap=2048)\n",
    "spec2, freqs2, t2 = specgram(song_array2, NFFT=4096, Fs=rate2, noverlap=2048)\n",
    "\n",
    "spec1[spec1 == 0] = 1e-6\n",
    "spec2[spec2 == 0] = 1e-6"
   ]
  },
  {
   "cell_type": "code",
   "execution_count": null,
   "metadata": {
    "collapsed": false
   },
   "outputs": [],
   "source": [
    "fig1 = plt.figure(figsize=(10, 8), facecolor='white')\n",
    "extent = 0, np.amax(t1), freqs1[0], freqs1[-1]\n",
    "Z = 10.0 * np.log10(spec1)\n",
    "Z = np.flipud(Z)\n",
    "plt.imshow(Z, cmap='viridis', extent=extent)\n",
    "plt.xlabel('Time bin [s]')\n",
    "plt.ylabel('Frequency [Hz]')\n",
    "plt.title('Katy Perry song')\n",
    "plt.axis('auto')\n",
    "plt.show()"
   ]
  },
  {
   "cell_type": "code",
   "execution_count": null,
   "metadata": {
    "collapsed": true
   },
   "outputs": [],
   "source": [
    "def cut_specgram(min_freq, max_freq, spec, freqs):\n",
    "    spec_cut = spec[(freqs >= min_freq) & (freqs <= max_freq)]\n",
    "    freqs_cut = freqs[(freqs >= min_freq) & (freqs <= max_freq)]\n",
    "    Z_cut = 10.0 * np.log10(spec_cut)\n",
    "    Z_cut = np.flipud(Z_cut)\n",
    "    return Z_cut, freqs_cut"
   ]
  },
  {
   "cell_type": "code",
   "execution_count": null,
   "metadata": {
    "collapsed": true
   },
   "outputs": [],
   "source": [
    "def show_peaks(Z, freqs, t, coord, title):\n",
    "    fig = plt.figure(figsize=(10, 8), facecolor='white')\n",
    "    plt.imshow(Z, cmap='viridis')\n",
    "    plt.scatter(coord[:, 1], coord[:, 0])\n",
    "    ax = plt.gca()\n",
    "    plt.xlabel('Time')\n",
    "    plt.ylabel('Frequency')\n",
    "    plt.title(title)\n",
    "    plt.axis('auto')\n",
    "    ax.set_xlim([0, len(t)])\n",
    "    ax.set_ylim([len(freqs), 0])\n",
    "    ax.xaxis.set_ticklabels([])\n",
    "    ax.yaxis.set_ticklabels([])\n",
    "    plt.show()"
   ]
  },
  {
   "cell_type": "code",
   "execution_count": null,
   "metadata": {
    "collapsed": false
   },
   "outputs": [],
   "source": [
    "min_freq = 0\n",
    "max_freq = 15000\n",
    "\n",
    "Z1, freqs1 = cut_specgram(min_freq, max_freq, spec1, freqs1)\n",
    "Z2, freqs2 = cut_specgram(min_freq, max_freq, spec2, freqs2)"
   ]
  },
  {
   "cell_type": "code",
   "execution_count": null,
   "metadata": {
    "collapsed": false
   },
   "outputs": [],
   "source": [
    "coordinates1 = peak_local_max(Z1, min_distance=20, threshold_abs=20)\n",
    "coordinates2 = peak_local_max(Z2, min_distance=20, threshold_abs=20)"
   ]
  },
  {
   "cell_type": "code",
   "execution_count": null,
   "metadata": {
    "collapsed": false
   },
   "outputs": [],
   "source": [
    "show_peaks(Z1, freqs1, t1, coordinates1, 'Katy Perry song')\n",
    "show_peaks(Z2, freqs2, t2, coordinates2, 'Daft Punk song')"
   ]
  }
 ],
 "metadata": {
  "kernelspec": {
   "display_name": "Python 3",
   "language": "python",
   "name": "python3"
  },
  "language_info": {
   "codemirror_mode": {
    "name": "ipython",
    "version": 3
   },
   "file_extension": ".py",
   "mimetype": "text/x-python",
   "name": "python",
   "nbconvert_exporter": "python",
   "pygments_lexer": "ipython3",
   "version": "3.5.0"
  }
 },
 "nbformat": 4,
 "nbformat_minor": 0
}
