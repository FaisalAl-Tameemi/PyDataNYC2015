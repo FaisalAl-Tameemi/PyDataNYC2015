{
 "cells": [
  {
   "cell_type": "code",
   "execution_count": null,
   "metadata": {
    "collapsed": true
   },
   "outputs": [],
   "source": [
    "import subprocess\n",
    "import numpy as np\n",
    "import matplotlib.pyplot as plt\n",
    "from matplotlib.mlab import specgram\n",
    "from scipy.io import wavfile\n",
    "from IPython.display import Audio, display"
   ]
  },
  {
   "cell_type": "code",
   "execution_count": null,
   "metadata": {
    "collapsed": true
   },
   "outputs": [],
   "source": [
    "%matplotlib inline\n",
    "plt.rcParams.update({'font.size': 18})"
   ]
  },
  {
   "cell_type": "code",
   "execution_count": null,
   "metadata": {
    "collapsed": false
   },
   "outputs": [],
   "source": [
    "subprocess.run('curl -O http://s1download-universal-soundbank.com/wav/12976.wav', \n",
    "               shell=True)"
   ]
  },
  {
   "cell_type": "code",
   "execution_count": null,
   "metadata": {
    "collapsed": false
   },
   "outputs": [],
   "source": [
    "subprocess.run('ffmpeg -i \"12976.wav\" -ac 1 -f wav sax_riff_mono.wav', \n",
    "               shell=True)"
   ]
  },
  {
   "cell_type": "code",
   "execution_count": null,
   "metadata": {
    "collapsed": false
   },
   "outputs": [],
   "source": [
    "rate, song_array = wavfile.read('sax_riff_mono.wav')"
   ]
  },
  {
   "cell_type": "code",
   "execution_count": null,
   "metadata": {
    "collapsed": true
   },
   "outputs": [],
   "source": [
    "def calc_specgram(song_array, NFFT, Fs, noverlap):\n",
    "    spec, freqs, t = specgram(song_array, NFFT=NFFT, Fs=Fs, noverlap=noverlap)\n",
    "    Z = 10.0 * np.log10(spec)\n",
    "    Z = np.flipud(Z)\n",
    "    extent = 0, np.amax(t), freqs[0], freqs[-1]\n",
    "    return Z, spec, freqs, t, extent"
   ]
  },
  {
   "cell_type": "code",
   "execution_count": null,
   "metadata": {
    "collapsed": true
   },
   "outputs": [],
   "source": [
    "def show_specgram(Z, cmap, extent):\n",
    "    fig = plt.figure(figsize=(10, 8), facecolor='white')\n",
    "    plt.imshow(Z, cmap=cmap, extent=extent)\n",
    "    plt.xlabel('Time bin [s]')\n",
    "    plt.ylabel('Frequency [Hz]')\n",
    "    plt.axis('auto')\n",
    "    plt.show()"
   ]
  },
  {
   "cell_type": "code",
   "execution_count": null,
   "metadata": {
    "collapsed": true
   },
   "outputs": [],
   "source": [
    "def cut_specgram(min_freq, max_freq, spec, freqs):\n",
    "    spec_cut = spec[(freqs >= min_freq) & (freqs <= max_freq)]\n",
    "    freqs_cut = freqs[(freqs >= min_freq) & (freqs <= max_freq)]\n",
    "    Z_cut = 10.0 * np.log10(spec_cut)\n",
    "    Z_cut = np.flipud(Z_cut)\n",
    "    extent_cut = 0, np.amax(t), freqs_cut[0], freqs_cut[-1]\n",
    "    return Z_cut, spec_cut, freqs_cut, extent_cut"
   ]
  },
  {
   "cell_type": "code",
   "execution_count": null,
   "metadata": {
    "collapsed": false
   },
   "outputs": [],
   "source": [
    "Z, spec, freqs, t, extent = calc_specgram(4096, rate, 2048)"
   ]
  },
  {
   "cell_type": "code",
   "execution_count": null,
   "metadata": {
    "collapsed": false
   },
   "outputs": [],
   "source": [
    "Z_cut, spec_cut, freqs_cut, extent_cut = cut_specgram(0, 4000, spec, freqs)"
   ]
  },
  {
   "cell_type": "code",
   "execution_count": null,
   "metadata": {
    "collapsed": false
   },
   "outputs": [],
   "source": [
    "display(Audio(data=song_array, rate=rate))"
   ]
  },
  {
   "cell_type": "code",
   "execution_count": null,
   "metadata": {
    "collapsed": false
   },
   "outputs": [],
   "source": [
    "show_specgram(Z_cut, 'viridis', extent_cut)"
   ]
  }
 ],
 "metadata": {
  "kernelspec": {
   "display_name": "Python 3",
   "language": "python",
   "name": "python3"
  },
  "language_info": {
   "codemirror_mode": {
    "name": "ipython",
    "version": 3
   },
   "file_extension": ".py",
   "mimetype": "text/x-python",
   "name": "python",
   "nbconvert_exporter": "python",
   "pygments_lexer": "ipython3",
   "version": "3.5.0"
  }
 },
 "nbformat": 4,
 "nbformat_minor": 0
}
